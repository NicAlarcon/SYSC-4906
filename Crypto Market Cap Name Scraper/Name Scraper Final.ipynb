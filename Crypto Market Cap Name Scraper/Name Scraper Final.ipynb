{
 "cells": [
  {
   "cell_type": "code",
   "execution_count": 8,
   "id": "6bce2461-189c-406e-94b0-500e69af4b6e",
   "metadata": {},
   "outputs": [
    {
     "name": "stdout",
     "output_type": "stream",
     "text": [
      "Requirement already satisfied: selenium in c:\\users\\nicol\\anaconda3\\lib\\site-packages (4.1.0)\n",
      "Requirement already satisfied: trio~=0.17 in c:\\users\\nicol\\anaconda3\\lib\\site-packages (from selenium) (0.19.0)\n",
      "Requirement already satisfied: trio-websocket~=0.9 in c:\\users\\nicol\\anaconda3\\lib\\site-packages (from selenium) (0.9.2)\n",
      "Requirement already satisfied: urllib3[secure]~=1.26 in c:\\users\\nicol\\anaconda3\\lib\\site-packages (from selenium) (1.26.7)\n",
      "Requirement already satisfied: attrs>=19.2.0 in c:\\users\\nicol\\anaconda3\\lib\\site-packages (from trio~=0.17->selenium) (21.2.0)\n",
      "Requirement already satisfied: cffi>=1.14 in c:\\users\\nicol\\anaconda3\\lib\\site-packages (from trio~=0.17->selenium) (1.14.6)\n",
      "Requirement already satisfied: idna in c:\\users\\nicol\\anaconda3\\lib\\site-packages (from trio~=0.17->selenium) (3.2)\n",
      "Requirement already satisfied: async-generator>=1.9 in c:\\users\\nicol\\anaconda3\\lib\\site-packages (from trio~=0.17->selenium) (1.10)\n",
      "Requirement already satisfied: outcome in c:\\users\\nicol\\anaconda3\\lib\\site-packages (from trio~=0.17->selenium) (1.1.0)\n",
      "Requirement already satisfied: sniffio in c:\\users\\nicol\\anaconda3\\lib\\site-packages (from trio~=0.17->selenium) (1.2.0)\n",
      "Requirement already satisfied: sortedcontainers in c:\\users\\nicol\\anaconda3\\lib\\site-packages (from trio~=0.17->selenium) (2.4.0)\n",
      "Requirement already satisfied: pycparser in c:\\users\\nicol\\anaconda3\\lib\\site-packages (from cffi>=1.14->trio~=0.17->selenium) (2.20)\n",
      "Requirement already satisfied: wsproto>=0.14 in c:\\users\\nicol\\anaconda3\\lib\\site-packages (from trio-websocket~=0.9->selenium) (1.0.0)\n",
      "Requirement already satisfied: pyOpenSSL>=0.14 in c:\\users\\nicol\\anaconda3\\lib\\site-packages (from urllib3[secure]~=1.26->selenium) (21.0.0)\n",
      "Requirement already satisfied: cryptography>=1.3.4 in c:\\users\\nicol\\anaconda3\\lib\\site-packages (from urllib3[secure]~=1.26->selenium) (3.4.8)\n",
      "Requirement already satisfied: certifi in c:\\users\\nicol\\anaconda3\\lib\\site-packages (from urllib3[secure]~=1.26->selenium) (2021.10.8)\n",
      "Requirement already satisfied: six>=1.5.2 in c:\\users\\nicol\\anaconda3\\lib\\site-packages (from pyOpenSSL>=0.14->urllib3[secure]~=1.26->selenium) (1.16.0)\n",
      "Requirement already satisfied: h11<1,>=0.9.0 in c:\\users\\nicol\\anaconda3\\lib\\site-packages (from wsproto>=0.14->trio-websocket~=0.9->selenium) (0.13.0)\n"
     ]
    }
   ],
   "source": [
    "!pip install selenium"
   ]
  },
  {
   "cell_type": "markdown",
   "id": "73e79492-fb67-4360-bc52-4cbdd026b131",
   "metadata": {},
   "source": [
    "Libraries"
   ]
  },
  {
   "cell_type": "code",
   "execution_count": 107,
   "id": "9a10a8bd-160a-4dd4-846b-467b2f8c776e",
   "metadata": {},
   "outputs": [],
   "source": [
    "import time\n",
    "import pandas as pd\n",
    "import bs4\n",
    "from bs4 import BeautifulSoup\n",
    "from selenium import webdriver\n",
    "from selenium.webdriver.common.by import By\n",
    "from selenium.webdriver.common.keys import Keys\n",
    "from selenium.webdriver.chrome.service import Service"
   ]
  },
  {
   "cell_type": "markdown",
   "id": "da4a1a61-5159-49aa-9064-31bb66035888",
   "metadata": {},
   "source": [
    "URL Link to be analyzed"
   ]
  },
  {
   "cell_type": "code",
   "execution_count": 119,
   "id": "01b39b81-a46a-4f35-8153-38cf21c6a488",
   "metadata": {},
   "outputs": [],
   "source": [
    "url = 'https://coinmarketcap.com/'"
   ]
  },
  {
   "cell_type": "markdown",
   "id": "e4bec797-15bb-40a3-a087-2d484ac9983b",
   "metadata": {},
   "source": [
    "Open and load website script"
   ]
  },
  {
   "cell_type": "code",
   "execution_count": 208,
   "id": "fc046463-432c-433c-a0e4-bef815fc8d4f",
   "metadata": {
    "tags": []
   },
   "outputs": [],
   "source": [
    "driver = webdriver.Chrome()\n",
    "driver.get(url)\n",
    "time.sleep(1)\n",
    "driver.execute_script(\"window.scrollTo(0, 2000)\")\n",
    "time.sleep(0.1)\n",
    "driver.execute_script(\"window.scrollTo(0, 4000)\") \n",
    "time.sleep(0.1)\n",
    "driver.execute_script(\"window.scrollTo(0, 6000)\") \n",
    "time.sleep(0.1)\n",
    "driver.execute_script(\"window.scrollTo(0, 8000)\") \n"
   ]
  },
  {
   "cell_type": "markdown",
   "id": "8ead354f-8f0b-466d-948a-c976e0f637ff",
   "metadata": {},
   "source": [
    "Search and print contents"
   ]
  },
  {
   "cell_type": "code",
   "execution_count": 209,
   "id": "0fbf266a-d968-4040-be16-ac4b98093f64",
   "metadata": {
    "tags": []
   },
   "outputs": [],
   "source": [
    "rows = driver.find_elements(By.TAG_NAME, \"tr\")\n",
    "soup = BeautifulSoup(driver.page_source, 'lxml')\n",
    "table = soup.find('tbody')\n",
    "rows = table.find_all('tr')\n",
    "tickers = []\n",
    "for row in rows:\n",
    "    ticker = row.find('p', class_ = 'sc-1eb5slv-0 iworPT').text.strip()\n",
    "    tickers.append(ticker)"
   ]
  },
  {
   "cell_type": "markdown",
   "id": "e01e8ce9-6565-464d-8ec7-871e09a6d2f0",
   "metadata": {},
   "source": [
    "Export to .CSV"
   ]
  },
  {
   "cell_type": "code",
   "execution_count": 212,
   "id": "b5411115-013d-48df-bb4f-95d8a624f599",
   "metadata": {},
   "outputs": [],
   "source": [
    "df = pd.DataFrame(tickers) \n",
    "df.to_csv('tickers.csv')"
   ]
  }
 ],
 "metadata": {
  "kernelspec": {
   "display_name": "Python 3 (ipykernel)",
   "language": "python",
   "name": "python3"
  },
  "language_info": {
   "codemirror_mode": {
    "name": "ipython",
    "version": 3
   },
   "file_extension": ".py",
   "mimetype": "text/x-python",
   "name": "python",
   "nbconvert_exporter": "python",
   "pygments_lexer": "ipython3",
   "version": "3.9.7"
  }
 },
 "nbformat": 4,
 "nbformat_minor": 5
}
